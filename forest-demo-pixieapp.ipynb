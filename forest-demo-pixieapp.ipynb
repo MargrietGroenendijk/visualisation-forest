{
 "cells": [
  {
   "cell_type": "markdown",
   "metadata": {},
   "source": [
    "<span style=\"color: #A51B73; font-size: 1.5em; font-weight:bold\">Hello World</span>"
   ]
  },
  {
   "cell_type": "code",
   "execution_count": 11,
   "metadata": {
    "pixiedust": {
     "displayParams": {}
    }
   },
   "outputs": [
    {
     "data": {
      "text/html": [
       "<style type=\"text/css\">.pd_warning{display:none;}</style><div class=\"pd_warning\"><em>Hey, there's something awesome here! To see it, open this notebook outside GitHub, in a viewer like Jupyter</em></div>"
      ],
      "text/plain": [
       "<IPython.core.display.HTML object>"
      ]
     },
     "metadata": {
      "pixieapp_metadata": null
     },
     "output_type": "display_data"
    }
   ],
   "source": [
    "#import the pixieapp decorators\n",
    "from pixiedust.display.app import *\n",
    "\n",
    "@PixieApp   #decorator for making the class a PixieApp\n",
    "class HelloWorldApp():\n",
    "    @route()  #decorator for making a method a route (no arguments means default route)\n",
    "    def main_screen(self):\n",
    "        return \"\"\"<div>Hello World</div>\"\"\"\n",
    "\n",
    "#Instantiate the application and run it\n",
    "app = HelloWorldApp()\n",
    "app.run()"
   ]
  },
  {
   "cell_type": "markdown",
   "metadata": {},
   "source": [
    "<span style=\"color: #A51B73; font-size: 1.5em; font-weight:bold\">Click Me</span>"
   ]
  },
  {
   "cell_type": "code",
   "execution_count": 12,
   "metadata": {
    "pixiedust": {
     "displayParams": {}
    }
   },
   "outputs": [
    {
     "data": {
      "text/html": [
       "<style type=\"text/css\">.pd_warning{display:none;}</style><div class=\"pd_warning\"><em>Hey, there's something awesome here! To see it, open this notebook outside GitHub, in a viewer like Jupyter</em></div>"
      ],
      "text/plain": [
       "<IPython.core.display.HTML object>"
      ]
     },
     "metadata": {
      "pixieapp_metadata": null
     },
     "output_type": "display_data"
    }
   ],
   "source": [
    "from pixiedust.display.app import *\n",
    "\n",
    "@PixieApp\n",
    "class HelloWorldPixieApp:\n",
    "    @route()\n",
    "    def main(self):\n",
    "        return\"\"\"\n",
    "            <input pd_options=\"clicked=true\" type=\"button\" value=\"Click Me\">\n",
    "        \"\"\"\n",
    "    @route(clicked=\"true\")\n",
    "    def _clicked(self):\n",
    "        return \"\"\"\n",
    "            <input pd_options=\"clicked=false\" type=\"button\" value=\"You Clicked, Now Go back\">\n",
    "        \"\"\"\n",
    "#run the app\n",
    "HelloWorldPixieApp().run(runInDialog='false')"
   ]
  },
  {
   "cell_type": "markdown",
   "metadata": {},
   "source": [
    "<span style=\"color: #A51B73; font-size: 1.5em; font-weight:bold\">Show Chart</span>"
   ]
  },
  {
   "cell_type": "code",
   "execution_count": 13,
   "metadata": {},
   "outputs": [
    {
     "name": "stdout",
     "output_type": "stream",
     "text": [
      "Creating pandas DataFrame for 'file:///Users/margriet/projects/visualisation-forest/data/co2_weekly_mlo.csv'. Please wait...\n",
      "Loading file using 'pandas'\n",
      "Successfully created pandas DataFrame for 'file:///Users/margriet/projects/visualisation-forest/data/co2_weekly_mlo.csv'\n"
     ]
    }
   ],
   "source": [
    "import pixiedust\n",
    "import numpy as np\n",
    "\n",
    "co2 = pixiedust.sampleData(\n",
    "        \"file:///Users/margriet/projects/visualisation-forest/data/co2_weekly_mlo.csv\",\n",
    "        forcePandas = True)\n",
    "\n",
    "co2 = co2.replace(-999.99, np.nan)"
   ]
  },
  {
   "cell_type": "code",
   "execution_count": 14,
   "metadata": {
    "pixiedust": {
     "displayParams": {}
    }
   },
   "outputs": [
    {
     "data": {
      "text/html": [
       "<style type=\"text/css\">.pd_warning{display:none;}</style><div class=\"pd_warning\"><em>Hey, there's something awesome here! To see it, open this notebook outside GitHub, in a viewer like Jupyter</em></div>"
      ],
      "text/plain": [
       "<IPython.core.display.HTML object>"
      ]
     },
     "metadata": {},
     "output_type": "display_data"
    }
   ],
   "source": [
    "from pixiedust.display.app import *\n",
    "\n",
    "@PixieApp   \n",
    "class HelloWorldApp():\n",
    "    @route()  \n",
    "    def main_screen(self):\n",
    "        return \"\"\"\n",
    "        <button type=\"submit\" pd_options=\"show_chart=true\" pd_target=\"chart\">Show Chart</button> \n",
    "        <!--Placeholder div to display the chart-->\n",
    "        <div id=\"chart\"></div>\n",
    "        \"\"\"\n",
    "    \n",
    "    @route(show_chart=\"true\")\n",
    "    def chart(self):\n",
    "        #Return a div bound to the cars dataframe using the pd_entity attribute\n",
    "        #pd_entity can refer a class variable or a global variable scoped to the notebook\n",
    "        return \"\"\"\n",
    "        <div pd_render_onload pd_entity=\"co2\">\n",
    "            <pd_options>\n",
    "                {\n",
    "                  \"chartsize\": \"63\",\n",
    "                  \"handlerId\": \"lineChart\",\n",
    "                  \"keyFields\": \"decimal\",\n",
    "                  \"legend\": \"false\",\n",
    "                  \"lineChartType\": \"grouped\",\n",
    "                  \"rendererId\": \"brunel\",\n",
    "                  \"rowCount\": \"1000000\",\n",
    "                  \"valueFields\": \"ppm\"\n",
    "                }\n",
    "            </pd_options>          \n",
    "        </div>\n",
    "        \"\"\"\n",
    "\n",
    "#Instantiate the application and run it\n",
    "app = HelloWorldApp()\n",
    "app.run()\n"
   ]
  },
  {
   "cell_type": "code",
   "execution_count": null,
   "metadata": {},
   "outputs": [],
   "source": []
  }
 ],
 "metadata": {
  "kernelspec": {
   "display_name": "Python3 with Pixiedust (Spark 2.2)",
   "language": "python",
   "name": "python3withpixiedustspark22"
  },
  "language_info": {
   "codemirror_mode": {
    "name": "ipython",
    "version": 3
   },
   "file_extension": ".py",
   "mimetype": "text/x-python",
   "name": "python",
   "nbconvert_exporter": "python",
   "pygments_lexer": "ipython3",
   "version": "3.6.3"
  }
 },
 "nbformat": 4,
 "nbformat_minor": 2
}
